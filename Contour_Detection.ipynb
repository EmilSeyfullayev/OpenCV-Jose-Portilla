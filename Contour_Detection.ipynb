{
  "cells": [
    {
      "cell_type": "markdown",
      "metadata": {
        "id": "view-in-github",
        "colab_type": "text"
      },
      "source": [
        "<a href=\"https://colab.research.google.com/github/EmilSeyfullayev/OpenCV-Jose-Portilla/blob/main/Contour_Detection.ipynb\" target=\"_parent\"><img src=\"https://colab.research.google.com/assets/colab-badge.svg\" alt=\"Open In Colab\"/></a>"
      ]
    },
    {
      "cell_type": "markdown",
      "metadata": {
        "id": "WjCPXFEVyTpO"
      },
      "source": [
        "<a href=\"https://www.pieriandata.com\"><img src=\"../DATA/Logo.jpg\"></a>\n",
        "*Copyright by Pierian Data Inc.*"
      ]
    },
    {
      "cell_type": "markdown",
      "metadata": {
        "id": "IDcaNls_yTpY"
      },
      "source": [
        "# Contour Detection"
      ]
    },
    {
      "cell_type": "markdown",
      "metadata": {
        "id": "BOQNfe6fyTpZ"
      },
      "source": [
        "## External vs Internal Contours"
      ]
    },
    {
      "cell_type": "code",
      "source": [
        "from google.colab import drive\n",
        "drive.mount('/content/drive')"
      ],
      "metadata": {
        "colab": {
          "base_uri": "https://localhost:8080/"
        },
        "id": "DmxROyZq-zgo",
        "outputId": "95fd3600-c54f-4b75-ad01-d3521feceb24"
      },
      "execution_count": 2,
      "outputs": [
        {
          "output_type": "stream",
          "name": "stdout",
          "text": [
            "Mounted at /content/drive\n"
          ]
        }
      ]
    },
    {
      "cell_type": "code",
      "execution_count": 3,
      "metadata": {
        "id": "pOfKhvPUyTpa"
      },
      "outputs": [],
      "source": [
        "import cv2\n",
        "import numpy as np\n",
        "import matplotlib.pyplot as plt\n",
        "%matplotlib inline"
      ]
    },
    {
      "cell_type": "code",
      "execution_count": 4,
      "metadata": {
        "id": "s2dwB8ULyTpg"
      },
      "outputs": [],
      "source": [
        "img = cv2.imread('/content/drive/MyDrive/Computer-Vision-with-Python/DATA/internal_external.png',0)"
      ]
    },
    {
      "cell_type": "code",
      "execution_count": 5,
      "metadata": {
        "id": "RAc-XbgcyTph",
        "outputId": "ecee0aae-6c33-4123-9357-25e692e4d10c",
        "colab": {
          "base_uri": "https://localhost:8080/"
        }
      },
      "outputs": [
        {
          "output_type": "execute_result",
          "data": {
            "text/plain": [
              "(652, 1080)"
            ]
          },
          "metadata": {},
          "execution_count": 5
        }
      ],
      "source": [
        "img.shape"
      ]
    },
    {
      "cell_type": "code",
      "execution_count": 6,
      "metadata": {
        "id": "YZboPC4syTpi",
        "outputId": "4daacc74-fa4f-46aa-8bcf-29ac7f68d2ea",
        "colab": {
          "base_uri": "https://localhost:8080/",
          "height": 272
        }
      },
      "outputs": [
        {
          "output_type": "execute_result",
          "data": {
            "text/plain": [
              "<matplotlib.image.AxesImage at 0x7fd1a43990d0>"
            ]
          },
          "metadata": {},
          "execution_count": 6
        },
        {
          "output_type": "display_data",
          "data": {
            "text/plain": [
              "<Figure size 432x288 with 1 Axes>"
            ],
            "image/png": "[encoded data removed]"
          },
          "metadata": {
            "needs_background": "light"
          }
        }
      ],
      "source": [
        "plt.imshow(img,cmap='gray')"
      ]
    },
    {
      "cell_type": "markdown",
      "metadata": {
        "id": "RPD6B9hMyTpl"
      },
      "source": [
        "**findContours**\n",
        "\n",
        "function will return back contours in an image, and based on the RETR method called, you can get back external, internal, or both:\n",
        "\n",
        "* cv2.RETR_EXTERNAL:Only extracts external contours\n",
        "* cv2.RETR_CCOMP: Extracts both internal and external contours organized in a two-level hierarchy\n",
        "* cv2.RETR_TREE: Extracts both internal and external contours organized in a  tree graph\n",
        "* cv2.RETR_LIST: Extracts all contours without any internal/external relationship"
      ]
    },
    {
      "cell_type": "code",
      "execution_count": 16,
      "metadata": {
        "id": "ByniZcDKyTpm"
      },
      "outputs": [],
      "source": [
        "contours, hierarchy = cv2.findContours(img, cv2.RETR_CCOMP, cv2.CHAIN_APPROX_SIMPLE)"
      ]
    },
    {
      "cell_type": "code",
      "execution_count": 17,
      "metadata": {
        "id": "TPQxVracyTpn",
        "outputId": "bc51def3-e451-4f18-ce2d-1271626bfc41",
        "colab": {
          "base_uri": "https://localhost:8080/"
        }
      },
      "outputs": [
        {
          "output_type": "execute_result",
          "data": {
            "text/plain": [
              "list"
            ]
          },
          "metadata": {},
          "execution_count": 17
        }
      ],
      "source": [
        "type(contours)"
      ]
    },
    {
      "cell_type": "code",
      "execution_count": 18,
      "metadata": {
        "id": "yq6rHuf0yTpo",
        "outputId": "abf55468-d619-41a1-e760-f73ebf2cc6dd",
        "colab": {
          "base_uri": "https://localhost:8080/"
        }
      },
      "outputs": [
        {
          "output_type": "execute_result",
          "data": {
            "text/plain": [
              "22"
            ]
          },
          "metadata": {},
          "execution_count": 18
        }
      ],
      "source": [
        "len(contours)"
      ]
    },
    {
      "cell_type": "code",
      "execution_count": 19,
      "metadata": {
        "id": "WKp9vhEpyTpp",
        "outputId": "2321276a-aa1d-4cd6-8746-243cbee70650",
        "colab": {
          "base_uri": "https://localhost:8080/"
        }
      },
      "outputs": [
        {
          "output_type": "execute_result",
          "data": {
            "text/plain": [
              "numpy.ndarray"
            ]
          },
          "metadata": {},
          "execution_count": 19
        }
      ],
      "source": [
        "type(hierarchy)"
      ]
    },
    {
      "cell_type": "code",
      "source": [
        "len(contours)"
      ],
      "metadata": {
        "colab": {
          "base_uri": "https://localhost:8080/"
        },
        "id": "mZlu5r7PCmI9",
        "outputId": "fda9a1c1-7d95-4704-bbed-c3d80a6ff024"
      },
      "execution_count": 26,
      "outputs": [
        {
          "output_type": "execute_result",
          "data": {
            "text/plain": [
              "22"
            ]
          },
          "metadata": {},
          "execution_count": 26
        }
      ]
    },
    {
      "cell_type": "code",
      "source": [
        "print(len(contours[0]))\n",
        "len(contours[1])"
      ],
      "metadata": {
        "colab": {
          "base_uri": "https://localhost:8080/"
        },
        "id": "002s-J7VCCrm",
        "outputId": "7341857d-f9ac-4ed4-f1ad-417f0c6c847e"
      },
      "execution_count": 25,
      "outputs": [
        {
          "output_type": "stream",
          "name": "stdout",
          "text": [
            "392\n"
          ]
        },
        {
          "output_type": "execute_result",
          "data": {
            "text/plain": [
              "144"
            ]
          },
          "metadata": {},
          "execution_count": 25
        }
      ]
    },
    {
      "cell_type": "code",
      "execution_count": null,
      "metadata": {
        "id": "9tO4Hk01yTpq",
        "outputId": "ea21e76d-4d7f-4b96-ae51-9975947bc360"
      },
      "outputs": [
        {
          "data": {
            "text/plain": [
              "(1, 22, 4)"
            ]
          },
          "execution_count": 34,
          "metadata": {},
          "output_type": "execute_result"
        }
      ],
      "source": [
        "hierarchy.shape"
      ]
    },
    {
      "cell_type": "code",
      "execution_count": 27,
      "metadata": {
        "id": "MppyYTAByTpq",
        "outputId": "ea1576c8-e7f0-48bf-d2bd-eeb020f69bfc",
        "colab": {
          "base_uri": "https://localhost:8080/"
        }
      },
      "outputs": [
        {
          "output_type": "execute_result",
          "data": {
            "text/plain": [
              "array([[[ 4, -1,  1, -1],\n",
              "        [ 2, -1, -1,  0],\n",
              "        [ 3,  1, -1,  0],\n",
              "        [-1,  2, -1,  0],\n",
              "        [21,  0,  5, -1],\n",
              "        [ 6, -1, -1,  4],\n",
              "        [ 7,  5, -1,  4],\n",
              "        [ 8,  6, -1,  4],\n",
              "        [ 9,  7, -1,  4],\n",
              "        [10,  8, -1,  4],\n",
              "        [11,  9, -1,  4],\n",
              "        [12, 10, -1,  4],\n",
              "        [13, 11, -1,  4],\n",
              "        [14, 12, -1,  4],\n",
              "        [15, 13, -1,  4],\n",
              "        [16, 14, -1,  4],\n",
              "        [17, 15, -1,  4],\n",
              "        [18, 16, -1,  4],\n",
              "        [19, 17, -1,  4],\n",
              "        [20, 18, -1,  4],\n",
              "        [-1, 19, -1,  4],\n",
              "        [-1,  4, -1, -1]]], dtype=int32)"
            ]
          },
          "metadata": {},
          "execution_count": 27
        }
      ],
      "source": [
        "hierarchy"
      ]
    },
    {
      "cell_type": "code",
      "execution_count": 29,
      "metadata": {
        "id": "8BAfeTysyTps"
      },
      "outputs": [],
      "source": [
        "# Draw External Contours\n",
        "\n",
        "# Set up empty array\n",
        "external_contours = np.zeros(img.shape)\n",
        "\n",
        "# For every entry in contours\n",
        "for i in range(len(contours)):\n",
        "    \n",
        "    # last column in the array is -1 if an external contour (no contours inside of it)\n",
        "    if hierarchy[0][i][3] == -1:\n",
        "        \n",
        "        # We can now draw the external contours from the list of contours\n",
        "        cv2.drawContours(external_contours, contours, i, 255, -1)"
      ]
    },
    {
      "cell_type": "code",
      "execution_count": 30,
      "metadata": {
        "id": "e48gz5EByTpt",
        "outputId": "0fe37f93-f5ff-4293-c1fd-538e16b0db0f",
        "colab": {
          "base_uri": "https://localhost:8080/",
          "height": 272
        }
      },
      "outputs": [
        {
          "output_type": "execute_result",
          "data": {
            "text/plain": [
              "<matplotlib.image.AxesImage at 0x7fd19a2bc050>"
            ]
          },
          "metadata": {},
          "execution_count": 30
        },
        {
          "output_type": "display_data",
          "data": {
            "text/plain": [
              "<Figure size 432x288 with 1 Axes>"
            ],
            "image/png": "[encoded data removed]"
          },
          "metadata": {
            "needs_background": "light"
          }
        }
      ],
      "source": [
        "plt.imshow(external_contours,cmap='gray')"
      ]
    },
    {
      "cell_type": "code",
      "execution_count": 31,
      "metadata": {
        "id": "J9Nv0hmjyTpw"
      },
      "outputs": [],
      "source": [
        "# Create empty array to hold internal contours\n",
        "image_internal = np.zeros(img.shape)\n",
        "\n",
        "# Iterate through list of contour arrays\n",
        "for i in range(len(contours)):\n",
        "    # If third column value is NOT equal to -1 than its internal\n",
        "    if hierarchy[0][i][3] != -1:\n",
        "        \n",
        "        # Draw the Contour\n",
        "        cv2.drawContours(image_internal, contours, i, 255, -1)\n",
        "        "
      ]
    },
    {
      "cell_type": "code",
      "execution_count": 32,
      "metadata": {
        "id": "m9kpnMuIyTpw",
        "outputId": "f0549880-6e7b-4678-b123-84f13cbac575",
        "colab": {
          "base_uri": "https://localhost:8080/",
          "height": 272
        }
      },
      "outputs": [
        {
          "output_type": "execute_result",
          "data": {
            "text/plain": [
              "<matplotlib.image.AxesImage at 0x7fd19a1aa090>"
            ]
          },
          "metadata": {},
          "execution_count": 32
        },
        {
          "output_type": "display_data",
          "data": {
            "text/plain": [
              "<Figure size 432x288 with 1 Axes>"
            ],
            "image/png": "[encoded data removed]"
          },
          "metadata": {
            "needs_background": "light"
          }
        }
      ],
      "source": [
        "plt.imshow(image_internal,cmap='gray')"
      ]
    },
    {
      "cell_type": "code",
      "source": [
        "img = cv2.imread('/content/WhatsApp Image 2022-04-11 at 7.07.49 PM.jpeg', 0)"
      ],
      "metadata": {
        "id": "hl-E77hjC1bl"
      },
      "execution_count": 132,
      "outputs": []
    },
    {
      "cell_type": "code",
      "source": [
        "plt.imshow(img, cmap='gray')"
      ],
      "metadata": {
        "colab": {
          "base_uri": "https://localhost:8080/",
          "height": 287
        },
        "id": "CIm4Zib_DnuZ",
        "outputId": "ab9c75df-7cc5-45d2-d2fd-ddc865f1dd96"
      },
      "execution_count": 133,
      "outputs": [
        {
          "output_type": "execute_result",
          "data": {
            "text/plain": [
              "<matplotlib.image.AxesImage at 0x7fd197621850>"
            ]
          },
          "metadata": {},
          "execution_count": 133
        },
        {
          "output_type": "display_data",
          "data": {
            "text/plain": [
              "<Figure size 432x288 with 1 Axes>"
            ],
            "image/png": "[encoded data removed]"
          },
          "metadata": {
            "needs_background": "light"
          }
        }
      ]
    },
    {
      "cell_type": "code",
      "source": [
        "ret, tresh = cv2.threshold(img, 190, 255, cv2.THRESH_BINARY)"
      ],
      "metadata": {
        "id": "b__jYg1tGPW7"
      },
      "execution_count": 134,
      "outputs": []
    },
    {
      "cell_type": "code",
      "source": [
        "plt.imshow(tresh, cmap='gray')"
      ],
      "metadata": {
        "colab": {
          "base_uri": "https://localhost:8080/",
          "height": 287
        },
        "id": "crQFXKDdHlec",
        "outputId": "04cb561c-a11d-4223-e3eb-e0b1eb0c9c02"
      },
      "execution_count": 135,
      "outputs": [
        {
          "output_type": "execute_result",
          "data": {
            "text/plain": [
              "<matplotlib.image.AxesImage at 0x7fd19758d210>"
            ]
          },
          "metadata": {},
          "execution_count": 135
        },
        {
          "output_type": "display_data",
          "data": {
            "text/plain": [
              "<Figure size 432x288 with 1 Axes>"
            ],
            "image/png": "[encoded data removed]"
          },
          "metadata": {
            "needs_background": "light"
          }
        }
      ]
    },
    {
      "cell_type": "code",
      "source": [
        "plt.imshow(cv2.Canny(tresh, 120, 255))"
      ],
      "metadata": {
        "colab": {
          "base_uri": "https://localhost:8080/",
          "height": 287
        },
        "id": "w__p27gHFFfP",
        "outputId": "0a96a14e-9ce8-48ed-d791-f8e756b1910c"
      },
      "execution_count": 136,
      "outputs": [
        {
          "output_type": "execute_result",
          "data": {
            "text/plain": [
              "<matplotlib.image.AxesImage at 0x7fd19756bc90>"
            ]
          },
          "metadata": {},
          "execution_count": 136
        },
        {
          "output_type": "display_data",
          "data": {
            "text/plain": [
              "<Figure size 432x288 with 1 Axes>"
            ],
            "image/png": "[encoded data removed]"
          },
          "metadata": {
            "needs_background": "light"
          }
        }
      ]
    },
    {
      "cell_type": "code",
      "source": [
        ""
      ],
      "metadata": {
        "id": "8xL6ppf7FFT3"
      },
      "execution_count": null,
      "outputs": []
    },
    {
      "cell_type": "code",
      "source": [
        "contours, hierarchy = cv2.findContours(tresh, cv2.RETR_CCOMP, cv2.CHAIN_APPROX_SIMPLE)"
      ],
      "metadata": {
        "id": "dRP4uLoeDqWL"
      },
      "execution_count": 137,
      "outputs": []
    },
    {
      "cell_type": "code",
      "source": [
        "len(contours)"
      ],
      "metadata": {
        "colab": {
          "base_uri": "https://localhost:8080/"
        },
        "id": "i_yzyQOGEp4u",
        "outputId": "37fc2572-964a-4661-a95b-4ab3f3a8d9a6"
      },
      "execution_count": 138,
      "outputs": [
        {
          "output_type": "execute_result",
          "data": {
            "text/plain": [
              "686"
            ]
          },
          "metadata": {},
          "execution_count": 138
        }
      ]
    },
    {
      "cell_type": "code",
      "source": [
        "hierarchy"
      ],
      "metadata": {
        "colab": {
          "base_uri": "https://localhost:8080/"
        },
        "id": "6hzVQRlAKKwn",
        "outputId": "d9628a45-256f-4403-b00d-f3f2b6f33646"
      },
      "execution_count": 139,
      "outputs": [
        {
          "output_type": "execute_result",
          "data": {
            "text/plain": [
              "array([[[  1,  -1,  -1,  -1],\n",
              "        [  2,   0,  -1,  -1],\n",
              "        [  3,   1,  -1,  -1],\n",
              "        ...,\n",
              "        [684, 682,  -1,  -1],\n",
              "        [685, 683,  -1,  -1],\n",
              "        [ -1, 684,  -1,  -1]]], dtype=int32)"
            ]
          },
          "metadata": {},
          "execution_count": 139
        }
      ]
    },
    {
      "cell_type": "code",
      "source": [
        "# Draw External Contours\n",
        "\n",
        "# Set up empty array\n",
        "external_contours = np.zeros(img.shape)\n",
        "\n",
        "# For every entry in contours\n",
        "for i in range(len(contours)):\n",
        "    \n",
        "    # last column in the array is -1 if an external contour (no contours inside of it)\n",
        "    if hierarchy[0][i][3] == -1:\n",
        "        \n",
        "        # We can now draw the external contours from the list of contours\n",
        "        cv2.drawContours(external_contours, contours, i, 255, -1)"
      ],
      "metadata": {
        "id": "EqK75Yn_EXIH"
      },
      "execution_count": 140,
      "outputs": []
    },
    {
      "cell_type": "code",
      "source": [
        "plt.imshow(external_contours, cmap='gray')"
      ],
      "metadata": {
        "colab": {
          "base_uri": "https://localhost:8080/",
          "height": 287
        },
        "id": "952KMGREEacl",
        "outputId": "f34b21aa-e47a-4537-8009-c44e29397c52"
      },
      "execution_count": 142,
      "outputs": [
        {
          "output_type": "execute_result",
          "data": {
            "text/plain": [
              "<matplotlib.image.AxesImage at 0x7fd19799bc10>"
            ]
          },
          "metadata": {},
          "execution_count": 142
        },
        {
          "output_type": "display_data",
          "data": {
            "text/plain": [
              "<Figure size 432x288 with 1 Axes>"
            ],
            "image/png": "[encoded data removed]"
          },
          "metadata": {
            "needs_background": "light"
          }
        }
      ]
    },
    {
      "cell_type": "code",
      "source": [
        "# Create empty array to hold internal contours\n",
        "image_internal = np.zeros(img.shape)\n",
        "\n",
        "# Iterate through list of contour arrays\n",
        "for i in range(len(contours)):\n",
        "    # If third column value is NOT equal to -1 than its internal\n",
        "    if hierarchy[0][i][3] != -1:\n",
        "        \n",
        "        # Draw the Contour\n",
        "        cv2.drawContours(image_internal, contours, i, 255, -1)\n",
        "        "
      ],
      "metadata": {
        "id": "PcvvFMopEc_-"
      },
      "execution_count": 143,
      "outputs": []
    },
    {
      "cell_type": "code",
      "source": [
        "plt.imshow(image_internal, 'gray')"
      ],
      "metadata": {
        "colab": {
          "base_uri": "https://localhost:8080/",
          "height": 287
        },
        "id": "zqRTMWDKEiYW",
        "outputId": "2148df09-8868-43d3-d8a0-4081ce7abc16"
      },
      "execution_count": 145,
      "outputs": [
        {
          "output_type": "execute_result",
          "data": {
            "text/plain": [
              "<matplotlib.image.AxesImage at 0x7fd197441b50>"
            ]
          },
          "metadata": {},
          "execution_count": 145
        },
        {
          "output_type": "display_data",
          "data": {
            "text/plain": [
              "<Figure size 432x288 with 1 Axes>"
            ],
            "image/png": "[encoded data removed]"
          },
          "metadata": {
            "needs_background": "light"
          }
        }
      ]
    },
    {
      "cell_type": "code",
      "source": [
        ""
      ],
      "metadata": {
        "id": "f3G20JXuElvm"
      },
      "execution_count": null,
      "outputs": []
    }
  ],
  "metadata": {
    "kernelspec": {
      "display_name": "Python 3",
      "language": "python",
      "name": "python3"
    },
    "language_info": {
      "codemirror_mode": {
        "name": "ipython",
        "version": 3
      },
      "file_extension": ".py",
      "mimetype": "text/x-python",
      "name": "python",
      "nbconvert_exporter": "python",
      "pygments_lexer": "ipython3",
      "version": "3.6.6"
    },
    "colab": {
      "name": "Copy of 04-Contour-Detection.ipynb",
      "provenance": [],
      "include_colab_link": true
    }
  },
  "nbformat": 4,
  "nbformat_minor": 0
}